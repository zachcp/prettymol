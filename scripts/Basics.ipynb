{
 "cells": [
  {
   "cell_type": "code",
   "execution_count": null,
   "id": "1676a6b8-78bc-4c1f-afa4-133699f37599",
   "metadata": {},
   "outputs": [],
   "source": [
    "%load_ext autoreload\n",
    "%autoreload 2\n",
    "    \n",
    "from IPython.display import Image, display\n",
    "from prettymol import draw, load_pdb,  StructureSelector, Repltools, MaterialCreator, StyleCreator, LightingCreator\n",
    "\n",
    "\n",
    "def setup():\n",
    "    # Load and process structure\n",
    "    structure = load_pdb(\"7xbu\")\n",
    "    polymer = StructureSelector(structure).amino_acids().get_selection()\n",
    "    ligand = StructureSelector(structure).resname(\"MYN\").get_selection()\n",
    "    return (structure, polymer, ligand)\n",
    "\n",
    "def draw_cell(style, material, distance=2):\n",
    "    rt.scene_clear()\n",
    "    structure, polymer, ligand = setup()\n",
    "    draw(structure, style, material)\n",
    "    rt.view_set_axis(distance=distance)\n",
    "    rt.view_render()\n",
    "    return True\n",
    "\n",
    "\n",
    "base_ribbon = StyleCreator.ribbon().update_properties(\n",
    "    radius=2.5,\n",
    "    smoothing=0.8,\n",
    "    quality=4\n",
    ")\n",
    "\n",
    "\n",
    "sun = LightingCreator.sun_light().update_properties(energy=10)\n",
    "                                                    \n",
    "rt = Repltools()\n",
    "rt.lighting_set_light(sun)\n"
   ]
  },
  {
   "cell_type": "code",
   "execution_count": null,
   "id": "57a88e36-be9c-4c68-91e9-d2325ef9e763",
   "metadata": {},
   "outputs": [],
   "source": [
    "rt = Repltools()\n",
    "\n",
    "# Load and process structure\n",
    "structure = load_pdb(\"7xbu\")\n",
    "polymer = StructureSelector(structure).amino_acids().get_selection()\n",
    "ligand = StructureSelector(structure).resname(\"MYN\").get_selection()\n",
    "\n",
    "# Create materials\n",
    "surface_material =  MaterialCreator.new()\n",
    "cartoon_material =  MaterialCreator.new()\n",
    "\n",
    "sticks_material =  MaterialCreator.new().update_properties(\n",
    "        **{'base_color': [0.15, 1, 0.15, 1],\n",
    "           \"emission_strength\": 1,                  # try changing this\n",
    "           \"emission_color\": [0.15, 1, 0.15, 1]})   # try changing this\n",
    "\n",
    "\n",
    "# print(sticks_material)\n",
    "\n",
    "# Draw and position\n",
    "draw(structure, StyleCreator.cartoon(), MaterialCreator.new())\n",
    "draw(ligand, StyleCreator.spheres(), sticks_material)\n",
    "\n",
    "rt.view_set_axis(distance=0.1)  # try changing this\n",
    "rt.view_render()"
   ]
  },
  {
   "cell_type": "code",
   "execution_count": null,
   "id": "ed84c6a0-c413-41e1-b8ff-94c32de80f57",
   "metadata": {
    "scrolled": true
   },
   "outputs": [],
   "source": [
    "draw_cell(base_ribbon,  MaterialCreator.neon())"
   ]
  },
  {
   "cell_type": "code",
   "execution_count": null,
   "id": "355f308a-9b67-436a-82a5-d144777746f4",
   "metadata": {
    "scrolled": true
   },
   "outputs": [],
   "source": [
    "draw_cell(base_ribbon,  MaterialCreator.glass().update_properties(alpha=0.8))"
   ]
  },
  {
   "cell_type": "code",
   "execution_count": null,
   "id": "26db294f-e61c-4c92-b244-3237d8ca8a22",
   "metadata": {},
   "outputs": [],
   "source": [
    "draw_cell(base_ribbon,  MaterialCreator.metallic())"
   ]
  },
  {
   "cell_type": "code",
   "execution_count": null,
   "id": "5007fcad-1587-4691-abdd-f109c811c1ca",
   "metadata": {},
   "outputs": [],
   "source": [
    "draw_cell(base_ribbon,  MaterialCreator.holo())"
   ]
  },
  {
   "cell_type": "code",
   "execution_count": null,
   "id": "992852e3-ca2c-427b-98cf-86d5cb3a249e",
   "metadata": {},
   "outputs": [],
   "source": [
    "draw_cell(base_ribbon,  MaterialCreator.velvet())"
   ]
  },
  {
   "cell_type": "code",
   "execution_count": null,
   "id": "fcd802a9-52b2-47b2-8bfc-dad2f148cf3d",
   "metadata": {},
   "outputs": [],
   "source": [
    "draw_cell(base_ribbon,  MaterialCreator.pearl())"
   ]
  },
  {
   "cell_type": "code",
   "execution_count": null,
   "id": "5f8a14b4-04be-4474-9d09-025d1635f99b",
   "metadata": {},
   "outputs": [],
   "source": [
    "draw_cell(base_ribbon,  MaterialCreator.subsurface())"
   ]
  },
  {
   "cell_type": "code",
   "execution_count": null,
   "id": "88ddbf8a-06d5-49fd-8f6d-80ea66cd8a40",
   "metadata": {},
   "outputs": [],
   "source": [
    "draw_cell(base_ribbon,  MaterialCreator.toon())"
   ]
  },
  {
   "cell_type": "code",
   "execution_count": null,
   "id": "d96840e6-974b-4be4-9322-f7b3cc994939",
   "metadata": {},
   "outputs": [],
   "source": [
    "draw_cell(base_ribbon,  MaterialCreator.iridescent())"
   ]
  },
  {
   "cell_type": "code",
   "execution_count": null,
   "id": "cc181652-ae3e-4c54-b6cb-13abe4b3ea02",
   "metadata": {},
   "outputs": [],
   "source": [
    "draw_cell(base_ribbon,  MaterialCreator.waxy())"
   ]
  }
 ],
 "metadata": {
  "kernelspec": {
   "display_name": "blender",
   "language": "python",
   "name": "blender"
  },
  "language_info": {
   "codemirror_mode": {
    "name": "ipython",
    "version": 3
   },
   "file_extension": ".py",
   "mimetype": "text/x-python",
   "name": "python",
   "nbconvert_exporter": "python",
   "pygments_lexer": "ipython3",
   "version": "3.11.9"
  }
 },
 "nbformat": 4,
 "nbformat_minor": 5
}
